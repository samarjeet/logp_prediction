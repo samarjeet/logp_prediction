{
 "cells": [
  {
   "cell_type": "code",
   "execution_count": 3,
   "metadata": {},
   "outputs": [],
   "source": [
    "import rdkit\n",
    "from rdkit import Chem, DataStructs\n",
    "import numpy as np\n",
    "from rdkit.Chem import AllChem\n",
    "import tensorflow as tf\n",
    "from tensorflow import keras\n",
    "import pandas as pd\n",
    "import matplotlib.pyplot as plt"
   ]
  },
  {
   "cell_type": "code",
   "execution_count": 4,
   "metadata": {},
   "outputs": [],
   "source": [
    "data = []\n",
    "label = np.empty((0,1), dtype=float)\n",
    "\n",
    "f = open(\"data/logP_labels.csv\")\n",
    "header = f.readline()\n",
    "\n",
    "count = 0\n",
    "for line in f :\n",
    "    parts = line.strip().split(',')\n",
    "    smiles = parts[1]\n",
    "    mol = Chem.MolFromSmiles(smiles)\n",
    "    \n",
    "    # Create the fingerprint and append it to data array\n",
    "    fp = AllChem.GetMorganFingerprintAsBitVect(mol, 2, nBits=1024)\n",
    "    arr = np.zeros((1,))\n",
    "    DataStructs.ConvertToNumpyArray(fp, arr)\n",
    "    \n",
    "    data.append(arr)\n",
    "    # Get the kow and append to target data array\n",
    "    kow = float(parts[-1])\n",
    "    label = np.append(label, kow)\n",
    "    count = count+1\n",
    "#    if count == 10000:\n",
    "#        break\n",
    "f.close()"
   ]
  },
  {
   "cell_type": "code",
   "execution_count": 5,
   "metadata": {},
   "outputs": [
    {
     "name": "stdout",
     "output_type": "stream",
     "text": [
      "2.3.0\n",
      "(12000, 1024)\n",
      "(12000,)\n",
      "(2176, 1024)\n",
      "(2176,)\n"
     ]
    }
   ],
   "source": [
    "data = np.asarray(data)\n",
    "print(tf.__version__)\n",
    "s = 12000\n",
    "train_data = data[:s, :]\n",
    "train_label = label[:s]\n",
    "\n",
    "test_data = data[s:, :]\n",
    "test_label = label[s:]\n",
    "print(train_data.shape)\n",
    "print(train_label.shape)\n",
    "\n",
    "print(test_data.shape)\n",
    "print(test_label.shape)"
   ]
  },
  {
   "cell_type": "code",
   "execution_count": 6,
   "metadata": {},
   "outputs": [],
   "source": [
    "def build_model():\n",
    "    model = keras.Sequential([\n",
    "        keras.layers.Dense(512, activation=tf.nn.relu,\n",
    "                           input_shape=(train_data.shape[1],)),\n",
    "        keras.layers.Dense(512, activation=tf.nn.relu),\n",
    "        #keras.layers.Dense(512, activation=tf.nn.relu),\n",
    "        keras.layers.Dense(256, activation=tf.nn.relu),\n",
    "        keras.layers.Dense(128, activation=tf.nn.relu),\n",
    "        keras.layers.Dense(64, activation=tf.nn.relu),\n",
    "        keras.layers.Dense(1)\n",
    "    ])\n",
    "\n",
    "    optimizer = tf.keras.optimizers.RMSprop()\n",
    "    optimizer = tf.keras.optimizers.SGD()\n",
    "\n",
    "    model.compile(loss='mse',\n",
    "                  optimizer=optimizer,\n",
    "                  metrics=['mae'])\n",
    "\n",
    "    return model\n",
    "\n",
    "class PrintDot(keras.callbacks.Callback):\n",
    "    def on_epoch_end(self, epoch, logs=None):\n",
    "        if epoch%100 == 0 : print('')\n",
    "        print('.', end='')\n",
    "\n",
    "\n",
    "\n",
    "def plot_history(history):\n",
    "    plt.figure()\n",
    "    plt.xlabel('Epoch')\n",
    "    plt.ylabel('Mean absolute error')\n",
    "    #plt.plot(history.epoch, np.array(history.history['mean_absolute_error']),\n",
    "    plt.plot(history.epoch, np.array(history.history['mae']),\n",
    "             label='Train loss')\n",
    "    #plt.plot(history.epoch, np.array(history.history['val_mean_absolute_error']),\n",
    "    plt.plot(history.epoch, np.array(history.history['val_mae']),\n",
    "         label='Val loss')\n",
    "    plt.legend()\n",
    "    #plt.ylim([])\n",
    "    \n",
    "EPOCHS = 80"
   ]
  },
  {
   "cell_type": "code",
   "execution_count": 7,
   "metadata": {},
   "outputs": [
    {
     "name": "stdout",
     "output_type": "stream",
     "text": [
      "Model: \"sequential\"\n",
      "_________________________________________________________________\n",
      "Layer (type)                 Output Shape              Param #   \n",
      "=================================================================\n",
      "dense (Dense)                (None, 512)               524800    \n",
      "_________________________________________________________________\n",
      "dense_1 (Dense)              (None, 512)               262656    \n",
      "_________________________________________________________________\n",
      "dense_2 (Dense)              (None, 256)               131328    \n",
      "_________________________________________________________________\n",
      "dense_3 (Dense)              (None, 128)               32896     \n",
      "_________________________________________________________________\n",
      "dense_4 (Dense)              (None, 64)                8256      \n",
      "_________________________________________________________________\n",
      "dense_5 (Dense)              (None, 1)                 65        \n",
      "=================================================================\n",
      "Total params: 960,001\n",
      "Trainable params: 960,001\n",
      "Non-trainable params: 0\n",
      "_________________________________________________________________\n"
     ]
    }
   ],
   "source": [
    "model = build_model()\n",
    "model.summary()"
   ]
  },
  {
   "cell_type": "code",
   "execution_count": 8,
   "metadata": {},
   "outputs": [
    {
     "name": "stdout",
     "output_type": "stream",
     "text": [
      "\n",
      "................................................................................"
     ]
    }
   ],
   "source": [
    "history = model.fit(train_data, train_label, epochs=EPOCHS,\n",
    "                    validation_split=0.2, verbose=0,\n",
    "                    callbacks=[PrintDot()])\n",
    "\n"
   ]
  },
  {
   "cell_type": "code",
   "execution_count": 9,
   "metadata": {},
   "outputs": [
    {
     "data": {
      "image/png": "[encoded data removed]",
      "text/plain": [
       "<Figure size 432x288 with 1 Axes>"
      ]
     },
     "metadata": {
      "needs_background": "light"
     },
     "output_type": "display_data"
    }
   ],
   "source": [
    "plot_history(history)"
   ]
  },
  {
   "cell_type": "code",
   "execution_count": 10,
   "metadata": {},
   "outputs": [
    {
     "name": "stdout",
     "output_type": "stream",
     "text": [
      "Testing set Mean Abs Error :  0.8196730613708496\n"
     ]
    }
   ],
   "source": [
    "[loss, mae] = model.evaluate(test_data, test_label, verbose=0)\n",
    "print(\"Testing set Mean Abs Error : \", mae)\n",
    "\n",
    "test_predictions = model.predict(test_data).flatten()"
   ]
  },
  {
   "cell_type": "code",
   "execution_count": 11,
   "metadata": {},
   "outputs": [
    {
     "data": {
      "image/png": "[encoded data removed]",
      "text/plain": [
       "<Figure size 432x288 with 1 Axes>"
      ]
     },
     "metadata": {
      "needs_background": "light"
     },
     "output_type": "display_data"
    },
    {
     "data": {
      "image/png": "[encoded data removed]",
      "text/plain": [
       "<Figure size 432x288 with 1 Axes>"
      ]
     },
     "metadata": {
      "needs_background": "light"
     },
     "output_type": "display_data"
    }
   ],
   "source": [
    "plt.figure()\n",
    "\n",
    "plt.scatter(test_label, test_predictions)\n",
    "plt.xlabel('True values')\n",
    "plt.ylabel('Predicted values')\n",
    "plt.axis('equal')\n",
    "plt.xlim(plt.xlim())\n",
    "plt.ylim(plt.ylim())\n",
    "_ = plt.plot([-10, 10], [-10,10])\n",
    "\n",
    "error = test_predictions - test_label\n",
    "plt.figure()\n",
    "plt.hist(error, bins = 30)\n",
    "plt.xlabel(\"Prediction error \")\n",
    "_ = plt.ylabel((\"Count\"))"
   ]
  },
  {
   "cell_type": "code",
   "execution_count": 12,
   "metadata": {},
   "outputs": [
    {
     "name": "stdout",
     "output_type": "stream",
     "text": [
      "(22, 1024)\n"
     ]
    }
   ],
   "source": [
    "# SAMPL\n",
    "sampl_data = []\n",
    "sampl_label = []\n",
    "\n",
    "f = open(\"test/sampl7.csv\")\n",
    "header = f.readline()\n",
    "for line in f:\n",
    "    parts = line.strip().split(',')\n",
    "    smiles = parts[1]\n",
    "    mol = Chem.MolFromSmiles(smiles)\n",
    "    fp = AllChem.GetMorganFingerprintAsBitVect(mol, 2, nBits=1024)\n",
    "    arr=np.zeros((1,))\n",
    "    DataStructs.ConvertToNumpyArray(fp, arr)\n",
    "    sampl_data.append(arr)\n",
    "    #kow = float(parts[-1])\n",
    "    #sampl_label.append(kow)\n",
    "sampl_data = np.asarray(sampl_data)\n",
    "sampl_label = np.asarray(sampl_label)\n",
    "#print(sampl_label.shape)\n",
    "print(sampl_data.shape)"
   ]
  },
  {
   "cell_type": "code",
   "execution_count": 13,
   "metadata": {},
   "outputs": [],
   "source": [
    "test_predictions = model.predict(sampl_data).flatten()"
   ]
  },
  {
   "cell_type": "code",
   "execution_count": 14,
   "metadata": {},
   "outputs": [
    {
     "data": {
      "text/plain": [
       "array([1.5310318 , 1.4972856 , 1.0585426 , 1.7368863 , 1.3604562 ,\n",
       "       2.383608  , 2.8461847 , 1.0898268 , 2.4256852 , 2.6521542 ,\n",
       "       2.0386398 , 3.4640012 , 3.5307176 , 0.789028  , 1.9264691 ,\n",
       "       2.4786909 , 2.3469338 , 1.4882786 , 2.0962555 , 0.77046007,\n",
       "       1.1008649 , 1.0022874 ], dtype=float32)"
      ]
     },
     "execution_count": 14,
     "metadata": {},
     "output_type": "execute_result"
    }
   ],
   "source": [
    "test_predictions"
   ]
  },
  {
   "cell_type": "code",
   "execution_count": null,
   "metadata": {},
   "outputs": [],
   "source": []
  }
 ],
 "metadata": {
  "kernelspec": {
   "display_name": "Python 3",
   "language": "python",
   "name": "python3"
  },
  "language_info": {
   "codemirror_mode": {
    "name": "ipython",
    "version": 3
   },
   "file_extension": ".py",
   "mimetype": "text/x-python",
   "name": "python",
   "nbconvert_exporter": "python",
   "pygments_lexer": "ipython3",
   "version": "3.8.5"
  }
 },
 "nbformat": 4,
 "nbformat_minor": 2
}
